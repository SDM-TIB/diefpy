{
  "cells": [
    {
      "cell_type": "code",
      "execution_count": null,
      "metadata": {
        "collapsed": false
      },
      "outputs": [],
      "source": [
        "%matplotlib inline"
      ]
    },
    {
      "cell_type": "markdown",
      "metadata": {},
      "source": [
        "\n# Measuring Performance with dief@k\n\nThe metric **dief@k** measures the diefficiency of a query engine while producing the first k answers when\nexecuting a query. Intuitively, approaches that require a shorter period of time to produce a certain number of\nanswers are more efficient. **dief@k interpretation: Lower is better**.\n\nThe ``diefpy.diefk`` and ``diefpy.diefk2`` methods compute the **dief@k** metric as follows.\n"
      ]
    },
    {
      "cell_type": "code",
      "execution_count": null,
      "metadata": {
        "collapsed": false
      },
      "outputs": [],
      "source": [
        "# sphinx_gallery_thumbnail_path = '_images/thumb_example_diefk.png'\n\nimport diefpy\nimport pandas as pd  # for displaying the data in a nice way\n\n# Load the answer trace file with the query traces from FigShare.\ntraces = diefpy.load_trace(\"https://ndownloader.figshare.com/files/9625852\")"
      ]
    },
    {
      "cell_type": "markdown",
      "metadata": {},
      "source": [
        "Compute **dief@k** of the approaches recorded in ``traces`` when executing ``Q9.sparql``\nand producing the first 2,000 answers.\n\n"
      ]
    },
    {
      "cell_type": "code",
      "execution_count": null,
      "metadata": {
        "collapsed": false
      },
      "outputs": [],
      "source": [
        "dk = diefpy.diefk(traces, \"Q9.sparql\", 2000)\npd.DataFrame(dk).head()"
      ]
    },
    {
      "cell_type": "markdown",
      "metadata": {},
      "source": [
        "Compute **dief@k** of the approaches recorded in ``traces`` when executing ``Q9.sparql``\nand producing the first *k* answers, where *k* is the minimum of the total answers\nproduced among all the approaches.\n\n"
      ]
    },
    {
      "cell_type": "code",
      "execution_count": null,
      "metadata": {
        "collapsed": false
      },
      "outputs": [],
      "source": [
        "dk = diefpy.diefk(traces, \"Q9.sparql\")\npd.DataFrame(dk).head()"
      ]
    },
    {
      "cell_type": "markdown",
      "metadata": {},
      "source": [
        "Compute **dief@k** of the approaches recorded in ``traces`` when executing ``Q9.sparql``\nand producing 50% of the answers.\n\n"
      ]
    },
    {
      "cell_type": "code",
      "execution_count": null,
      "metadata": {
        "collapsed": false
      },
      "outputs": [],
      "source": [
        "dk = diefpy.diefk2(traces, \"Q9.sparql\", 0.50)\npd.DataFrame(dk).head()"
      ]
    }
  ],
  "metadata": {
    "kernelspec": {
      "display_name": "Python 3",
      "language": "python",
      "name": "python3"
    },
    "language_info": {
      "codemirror_mode": {
        "name": "ipython",
        "version": 3
      },
      "file_extension": ".py",
      "mimetype": "text/x-python",
      "name": "python",
      "nbconvert_exporter": "python",
      "pygments_lexer": "ipython3",
      "version": "3.10.12"
    }
  },
  "nbformat": 4,
  "nbformat_minor": 0
}