{
  "cells": [
    {
      "cell_type": "code",
      "execution_count": null,
      "metadata": {
        "collapsed": false
      },
      "outputs": [],
      "source": [
        "%matplotlib inline"
      ]
    },
    {
      "cell_type": "markdown",
      "metadata": {},
      "source": [
        "\n# Visualizing Execution Time of SPARQL Query Engines\n\nIn a classical analysis of the performance of query engines, plots to compare the overall execution time of the different query engines per query are presented.\nWith the ``diefpy`` package, it is possible to generate these plots from the metrics file using the ``diefpy.plot_execution_time`` method.\n"
      ]
    },
    {
      "cell_type": "code",
      "execution_count": null,
      "metadata": {
        "collapsed": false
      },
      "outputs": [],
      "source": [
        "import diefpy\n\nCOLORS = [\"#ECC30B\", \"#D56062\", \"#84BCDA\"]\n\n# Load the result of the other metrics (execution time, etc.) from FigShare.\nmetrics = diefpy.load_metrics(\"https://ndownloader.figshare.com/files/9660316\")\n\n# Plot the execution times of all queries and query engines as a bar chart from the metrics file.\ndiefpy.plot_execution_time(metrics, COLORS, log_scale=True).show()"
      ]
    },
    {
      "cell_type": "markdown",
      "metadata": {},
      "source": [
        "**Conclusion:** For most of the queries, the performance of the different approaches is comparable in terms of\nexecution time. nLDE ``Not Adaptive`` is not able to produce results for the queries ``Q4.sparql`` and ``Q5.sparql.``\nAdditionally, the nLDE ``Selective`` outperforms the other approaches for query ``Q2.sparql`` while exhibiting the\nworst performance for query ``Q17.sparql``.\n\n"
      ]
    }
  ],
  "metadata": {
    "kernelspec": {
      "display_name": "Python 3",
      "language": "python",
      "name": "python3"
    },
    "language_info": {
      "codemirror_mode": {
        "name": "ipython",
        "version": 3
      },
      "file_extension": ".py",
      "mimetype": "text/x-python",
      "name": "python",
      "nbconvert_exporter": "python",
      "pygments_lexer": "ipython3",
      "version": "3.10.12"
    }
  },
  "nbformat": 4,
  "nbformat_minor": 0
}