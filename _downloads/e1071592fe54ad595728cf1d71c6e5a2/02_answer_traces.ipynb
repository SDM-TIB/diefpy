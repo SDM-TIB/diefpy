{
  "cells": [
    {
      "cell_type": "code",
      "execution_count": null,
      "metadata": {
        "collapsed": false
      },
      "outputs": [],
      "source": [
        "%matplotlib inline"
      ]
    },
    {
      "cell_type": "markdown",
      "metadata": {},
      "source": [
        "\n# Visualizing Answer Traces of Continuous SPARQL Query Engines\n\nTo measure the diefficiency of approaches, the metrics **dief@t** and **dief@k** compute the area under the curve (AUC)\nof the **answer traces**. Answer traces record the points in time when an approach produces an answer.\n\nWith the ``diefpy`` package, it is possible to plot the answer trace of a SPARQL query engine when executing a query\nusing the ``diefpy.plot_answer_trace`` method.\n"
      ]
    },
    {
      "cell_type": "code",
      "execution_count": null,
      "metadata": {
        "collapsed": false
      },
      "outputs": [],
      "source": [
        "import diefpy\n\nCOLORS = [\"#ECC30B\", \"#D56062\", \"#84BCDA\"]\n\n# Load the answer trace file with the query traces from FigShare.\ntraces = diefpy.load_trace(\"https://ndownloader.figshare.com/files/9625852\")\n\n# Plot the answer trace recorded in `traces` for query `Q9.sparql`\ndiefpy.plot_answer_trace(traces, \"Q9.sparql\", COLORS).show()"
      ]
    },
    {
      "cell_type": "markdown",
      "metadata": {},
      "source": [
        "**Conclusion:** For ``Q9.sparql``, we obseve that the answer trace of nLDE ``Not Adaptive`` (yellow line) surpasses\nthe answer traces of the other approaches. This indicates that nLDE ``Not Adaptive`` continuously produces more\nanswers than the other approaches.\n\n"
      ]
    }
  ],
  "metadata": {
    "kernelspec": {
      "display_name": "Python 3",
      "language": "python",
      "name": "python3"
    },
    "language_info": {
      "codemirror_mode": {
        "name": "ipython",
        "version": 3
      },
      "file_extension": ".py",
      "mimetype": "text/x-python",
      "name": "python",
      "nbconvert_exporter": "python",
      "pygments_lexer": "ipython3",
      "version": "3.8.10"
    }
  },
  "nbformat": 4,
  "nbformat_minor": 0
}