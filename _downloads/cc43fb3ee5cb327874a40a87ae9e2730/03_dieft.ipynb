{
  "cells": [
    {
      "cell_type": "code",
      "execution_count": null,
      "metadata": {
        "collapsed": false
      },
      "outputs": [],
      "source": [
        "%matplotlib inline"
      ]
    },
    {
      "cell_type": "markdown",
      "metadata": {},
      "source": [
        "\n# Measuring Performance with dief@t\n\nThe metric **dief@t** measures the diefficiency of an engine in the first t time units of query execution.\nIntuitively, approaches that produce answers at a higher rate in a certain period of time are more efficient.\n**dief@t interpretation: Higher is better**.\n\n\nThe ``diefpy.dieft`` method computes the **dief@t** metric as follows.\n"
      ]
    },
    {
      "cell_type": "code",
      "execution_count": null,
      "metadata": {
        "collapsed": false
      },
      "outputs": [],
      "source": [
        "# sphinx_gallery_thumbnail_path = '_images/thumb_example_dieft.png'\n\nimport diefpy\nimport pandas as pd  # for displaying the data in a nice way\n\n# Load the answer trace file with the query traces from FigShare.\ntraces = diefpy.load_trace(\"https://ndownloader.figshare.com/files/9625852\")"
      ]
    },
    {
      "cell_type": "markdown",
      "metadata": {},
      "source": [
        "Compute **dief@t** of the approaches recorded in ``traces`` when executing ``Q9.sparql``\nuntil the time unit 10 (here: in seconds).\n\n"
      ]
    },
    {
      "cell_type": "code",
      "execution_count": null,
      "metadata": {
        "collapsed": false
      },
      "outputs": [],
      "source": [
        "dt = diefpy.dieft(traces, \"Q9.sparql\", 10)\npd.DataFrame(dt).head()"
      ]
    },
    {
      "cell_type": "markdown",
      "metadata": {},
      "source": [
        "Compute **dief@t** of the approaches recorded in ``traces`` when executing ``Q9.sparql``\nuntil the time unit when the slowest approach finalizes its execution.\n\n"
      ]
    },
    {
      "cell_type": "code",
      "execution_count": null,
      "metadata": {
        "collapsed": false
      },
      "outputs": [],
      "source": [
        "dt = diefpy.dieft(traces, \"Q9.sparql\")\npd.DataFrame(dt).head()"
      ]
    }
  ],
  "metadata": {
    "kernelspec": {
      "display_name": "Python 3",
      "language": "python",
      "name": "python3"
    },
    "language_info": {
      "codemirror_mode": {
        "name": "ipython",
        "version": 3
      },
      "file_extension": ".py",
      "mimetype": "text/x-python",
      "name": "python",
      "nbconvert_exporter": "python",
      "pygments_lexer": "ipython3",
      "version": "3.8.10"
    }
  },
  "nbformat": 4,
  "nbformat_minor": 0
}