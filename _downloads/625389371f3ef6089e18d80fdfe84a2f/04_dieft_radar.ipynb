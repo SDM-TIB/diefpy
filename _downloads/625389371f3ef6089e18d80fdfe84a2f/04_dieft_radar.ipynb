{
  "cells": [
    {
      "cell_type": "code",
      "execution_count": null,
      "metadata": {
        "collapsed": false
      },
      "outputs": [],
      "source": [
        "%matplotlib inline"
      ]
    },
    {
      "cell_type": "markdown",
      "metadata": {},
      "source": [
        "\n# Comparing dief@t with Other Metrics\n\nExperiment 1 in :cite:p:`dief` compares the performance of three variants of nlDE using conventional metrics from the query processing literature and **dief@t**.\n\nThe method ``diefpy.performance_of_approaches_with_dieft`` computes the results reported in the previously mentioned\nexperiment, i.e., **dief@t**, *time to first tuple*, *execution time*, *number of answers produced*, *throughput*,\n*inverse time to first tuple*, and *inverse execution time*.\n"
      ]
    },
    {
      "cell_type": "code",
      "execution_count": null,
      "metadata": {
        "collapsed": false
      },
      "outputs": [],
      "source": [
        "import diefpy\nimport pandas as pd  # for displaying the data in a nice way\n\nCOLORS = [\"#ECC30B\", \"#D56062\", \"#84BCDA\"]\n\n# Load the answer trace file with the query traces from FigShare.\ntraces = diefpy.load_trace(\"https://ndownloader.figshare.com/files/9625852\")\n\n# Load the result of the other metrics (execution time, etc.) from FigShare.\nmetrics = diefpy.load_metrics(\"https://ndownloader.figshare.com/files/9660316\")\n\n# Create all metrics from the `traces` and `metrics`\nexp1 = diefpy.performance_of_approaches_with_dieft(traces, metrics)"
      ]
    },
    {
      "cell_type": "markdown",
      "metadata": {},
      "source": [
        "Inspect the results for query ``Q9.sparql``\n\n* `throughput` is computed as comp/totaltime\n* `invtfft` is computed as 1/tfft\n* `invtotaltime` is computed as 1/totaltime\n\n"
      ]
    },
    {
      "cell_type": "code",
      "execution_count": null,
      "metadata": {
        "collapsed": false
      },
      "outputs": [],
      "source": [
        "pd.DataFrame(exp1[exp1['test'] == \"Q9.sparql\"]).head()"
      ]
    },
    {
      "cell_type": "markdown",
      "metadata": {},
      "source": [
        "Create radar plot to compare the performance of the approaches with **dief@t** and other metrics.\n**Plot interpretation: Higher is better.**\n\n"
      ]
    },
    {
      "cell_type": "code",
      "execution_count": null,
      "metadata": {
        "collapsed": false
      },
      "outputs": [],
      "source": [
        "diefpy.plot_performance_of_approaches_with_dieft(exp1, \"Q9.sparql\", COLORS).show()"
      ]
    },
    {
      "cell_type": "markdown",
      "metadata": {},
      "source": [
        "**Conclusion:** For ``Q9.sparql``, the values of the metrics from the literature indicate that the three nLDE\nvariants are competitive approaches. Yet, **dief@t** allows for uncovering that nLDE ``Not Adaptive`` is able to\ncontinuously produce answers at a faster rate than the other approaches for this query until the slowest approach\nfinalizes its execution.\n\n"
      ]
    }
  ],
  "metadata": {
    "kernelspec": {
      "display_name": "Python 3",
      "language": "python",
      "name": "python3"
    },
    "language_info": {
      "codemirror_mode": {
        "name": "ipython",
        "version": 3
      },
      "file_extension": ".py",
      "mimetype": "text/x-python",
      "name": "python",
      "nbconvert_exporter": "python",
      "pygments_lexer": "ipython3",
      "version": "3.8.10"
    }
  },
  "nbformat": 4,
  "nbformat_minor": 0
}