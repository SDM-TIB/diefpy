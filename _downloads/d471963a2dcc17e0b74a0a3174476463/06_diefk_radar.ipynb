{
  "cells": [
    {
      "cell_type": "code",
      "execution_count": null,
      "metadata": {
        "collapsed": false
      },
      "outputs": [],
      "source": [
        "%matplotlib inline"
      ]
    },
    {
      "cell_type": "markdown",
      "metadata": {},
      "source": [
        "\n# Measuring dief@t at Different Answer Completeness Percentages\n\nExperiment 2 in :cite:p:`dief` compares the performance of the three variants of nLDE when producing different answer\ncompleteness percentages (25%, 50%, 75%, 100%) using **dief@k**.\n\nThe method ``diefpy.continuous_efficiency_with_diefk`` computes the **dief@k** metric for the previously\nmentioned answer completeness percentages.\n"
      ]
    },
    {
      "cell_type": "code",
      "execution_count": null,
      "metadata": {
        "collapsed": false
      },
      "outputs": [],
      "source": [
        "import diefpy\n\nCOLORS = [\"#ECC30B\", \"#D56062\", \"#84BCDA\"]\n\n# Load the answer trace file with the query traces from FigShare.\ntraces = diefpy.load_trace(\"https://ndownloader.figshare.com/files/9625852\")\n\n# Compute dief@k for 25%, 50%, 75%, and 100% answer completeness\nexp2 = diefpy.continuous_efficiency_with_diefk(traces)"
      ]
    },
    {
      "cell_type": "markdown",
      "metadata": {},
      "source": [
        "Create radar plot to compare the performance of the approaches with **dief@k**\nat different answer completeness percentages (25%, 50%, 75%, 100%).\n**Plot interpretation: Lower is better.**\n\n"
      ]
    },
    {
      "cell_type": "code",
      "execution_count": null,
      "metadata": {
        "collapsed": false
      },
      "outputs": [],
      "source": [
        "diefpy.plot_continuous_efficiency_with_diefk(exp2, 'Q9.sparql', COLORS).show()"
      ]
    },
    {
      "cell_type": "markdown",
      "metadata": {},
      "source": [
        "**Conclusion:** For ``Q9.sparql``, the variants nLDE ``Random`` and ``Not Adaptive`` exhibit similar values of\n**dief@k** while producing the first 25% of the answers. However, when looking at **dief@k** at 100%, we can\nconclude that once nlDE ``Random`` starts producing answers, it produces all the answers at a faster rate.\nThis can be observed in the answer trace plot, where the trace for nLDE ``Random`` (red line) has a higher slope\nover time than the other approaches.\n\n"
      ]
    }
  ],
  "metadata": {
    "kernelspec": {
      "display_name": "Python 3",
      "language": "python",
      "name": "python3"
    },
    "language_info": {
      "codemirror_mode": {
        "name": "ipython",
        "version": 3
      },
      "file_extension": ".py",
      "mimetype": "text/x-python",
      "name": "python",
      "nbconvert_exporter": "python",
      "pygments_lexer": "ipython3",
      "version": "3.10.8"
    }
  },
  "nbformat": 4,
  "nbformat_minor": 0
}